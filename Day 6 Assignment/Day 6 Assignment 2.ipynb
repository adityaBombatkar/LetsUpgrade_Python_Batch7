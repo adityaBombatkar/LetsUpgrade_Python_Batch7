{
 "cells": [
  {
   "cell_type": "markdown",
   "metadata": {},
   "source": [
    "#Aditya Bombatkar"
   ]
  },
  {
   "cell_type": "markdown",
   "metadata": {},
   "source": []
  },
  {
   "cell_type": "code",
   "execution_count": null,
   "metadata": {},
   "outputs": [],
   "source": [
    "# Q for this challenge create a cone class that has two attributes :\n",
    "\n",
    "# R =radius\n",
    "# h = height\n",
    "\n",
    "# and two methods:\n",
    "    \n",
    "# volume = pi * r*r * (h/3)\n",
    "\n",
    "# surface area = base : pi *r*r, side pi*r*sqrt(r*r + h*h)"
   ]
  },
  {
   "cell_type": "code",
   "execution_count": 20,
   "metadata": {},
   "outputs": [],
   "source": [
    "import math\n",
    "\n",
    "class Cone():\n",
    "    def __init__(self, r, h):\n",
    "        self.r = r\n",
    "        self.h = h\n",
    "        \n",
    "    def volume(self):\n",
    "        volume = ((math.pi) * self.r * self.r) * (self.h/3)\n",
    "        print(\"Volume of cone is\", volume)\n",
    "        \n",
    "    def surfaceArea(self):\n",
    "        base = ((math.pi) * (self.r * self.r))\n",
    "        side = (math.pi * self.r) * (math.sqrt((self.h * self.h) + (self.r * self.r)))\n",
    "        area = base + side\n",
    "        print(\"Surface area of cone is: \", area)\n",
    "    \n",
    "        "
   ]
  },
  {
   "cell_type": "code",
   "execution_count": 21,
   "metadata": {},
   "outputs": [],
   "source": [
    "a = Cone(4,5)"
   ]
  },
  {
   "cell_type": "code",
   "execution_count": 22,
   "metadata": {},
   "outputs": [
    {
     "name": "stdout",
     "output_type": "stream",
     "text": [
      "Volume of cone is 83.77580409572782\n"
     ]
    }
   ],
   "source": [
    "a.volume()"
   ]
  },
  {
   "cell_type": "code",
   "execution_count": 23,
   "metadata": {},
   "outputs": [
    {
     "name": "stdout",
     "output_type": "stream",
     "text": [
      "Surface area of cone is:  130.72951471480383\n"
     ]
    }
   ],
   "source": [
    "a.surfaceArea()"
   ]
  },
  {
   "cell_type": "code",
   "execution_count": null,
   "metadata": {},
   "outputs": [],
   "source": []
  }
 ],
 "metadata": {
  "kernelspec": {
   "display_name": "Python 3",
   "language": "python",
   "name": "python3"
  },
  "language_info": {
   "codemirror_mode": {
    "name": "ipython",
    "version": 3
   },
   "file_extension": ".py",
   "mimetype": "text/x-python",
   "name": "python",
   "nbconvert_exporter": "python",
   "pygments_lexer": "ipython3",
   "version": "3.6.5"
  }
 },
 "nbformat": 4,
 "nbformat_minor": 2
}
