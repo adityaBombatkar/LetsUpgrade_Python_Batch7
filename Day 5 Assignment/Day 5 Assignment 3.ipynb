{
 "cells": [
  {
   "cell_type": "markdown",
   "metadata": {},
   "source": [
    "# Aditya Bombatkar"
   ]
  },
  {
   "cell_type": "code",
   "execution_count": 1,
   "metadata": {},
   "outputs": [],
   "source": [
    "# Q Make a Lambda function for capitalizing the whole \n",
    "# sentence passed using arguments\n",
    "\n",
    "# And map all the sentencesin the List, with the Lambda function"
   ]
  },
  {
   "cell_type": "code",
   "execution_count": 18,
   "metadata": {},
   "outputs": [],
   "source": [
    "# def cap(a):\n",
    "#     return a.title()\n",
    "    "
   ]
  },
  {
   "cell_type": "code",
   "execution_count": 19,
   "metadata": {},
   "outputs": [],
   "source": [
    "# print(cap(\"aditya is a good boy\"))"
   ]
  },
  {
   "cell_type": "code",
   "execution_count": 21,
   "metadata": {},
   "outputs": [
    {
     "name": "stdout",
     "output_type": "stream",
     "text": [
      "['Hey My Name Is Aditya', 'What Is Your Name']\n"
     ]
    }
   ],
   "source": [
    "lst = [\"hey my name is aditya\", \"what is your name\"]\n",
    "# result = map(cap, lst)\n",
    "# print(list(result))\n",
    "cap = map(lambda a: a.title(), lst)\n",
    "print(list(cap))"
   ]
  },
  {
   "cell_type": "code",
   "execution_count": null,
   "metadata": {},
   "outputs": [],
   "source": []
  }
 ],
 "metadata": {
  "kernelspec": {
   "display_name": "Python 3",
   "language": "python",
   "name": "python3"
  },
  "language_info": {
   "codemirror_mode": {
    "name": "ipython",
    "version": 3
   },
   "file_extension": ".py",
   "mimetype": "text/x-python",
   "name": "python",
   "nbconvert_exporter": "python",
   "pygments_lexer": "ipython3",
   "version": "3.6.5"
  }
 },
 "nbformat": 4,
 "nbformat_minor": 2
}
