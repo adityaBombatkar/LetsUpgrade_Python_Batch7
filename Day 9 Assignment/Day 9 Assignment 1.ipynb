{
 "cells": [
  {
   "cell_type": "markdown",
   "metadata": {},
   "source": [
    "# Aditya Bombatkar"
   ]
  },
  {
   "cell_type": "code",
   "execution_count": 14,
   "metadata": {},
   "outputs": [],
   "source": [
    "# Write a python function for finding is a given number is prime or not and do unit testing on it using Pylint and unittest library"
   ]
  },
  {
   "cell_type": "code",
   "execution_count": 12,
   "metadata": {},
   "outputs": [
    {
     "name": "stdout",
     "output_type": "stream",
     "text": [
      "Writing check_prime_number.py\n"
     ]
    }
   ],
   "source": [
    "%%writefile check_prime_number.py\n",
    "'''\n",
    "code to check\n",
    "'''\n",
    "def check_prime_for_number(no_to_be_checked):\n",
    "    '''\n",
    "    To check weather prime or not\n",
    "    '''\n",
    "    if no_to_be_checked > 1:\n",
    "        for i in range(2, no_to_be_checked):\n",
    "            if(no_to_be_checked % i) == 0:\n",
    "                print(\"not prime\")\n",
    "                break\n",
    "        else:\n",
    "            print(\"prime\")\n",
    "        "
   ]
  },
  {
   "cell_type": "code",
   "execution_count": 13,
   "metadata": {},
   "outputs": [
    {
     "name": "stdout",
     "output_type": "stream",
     "text": [
      "\n",
      "------------------------------------\n",
      "\n",
      "Your code has been rated at 10.00/10\n",
      "\n",
      "\n",
      "\n"
     ]
    },
    {
     "name": "stderr",
     "output_type": "stream",
     "text": [
      "No config file found, using default configuration\n"
     ]
    }
   ],
   "source": [
    "! pylint \"check_prime_number.py\""
   ]
  },
  {
   "cell_type": "code",
   "execution_count": null,
   "metadata": {
    "scrolled": true
   },
   "outputs": [],
   "source": [
    "! pip install pylint"
   ]
  },
  {
   "cell_type": "code",
   "execution_count": 10,
   "metadata": {},
   "outputs": [
    {
     "name": "stdout",
     "output_type": "stream",
     "text": [
      "Overwriting check_prime.py\n"
     ]
    }
   ],
   "source": [
    "%%writefile check_prime.py\n",
    "'''\n",
    "code to check\n",
    "'''\n",
    "def check_prime_no(no_to_be_checked):\n",
    "    '''\n",
    "    To check weather prime or not\n",
    "    '''\n",
    "    if no_to_be_checked > 1:\n",
    "        for i in range(2, no_to_be_checked):\n",
    "            if(no_to_be_checked % i) == 0:\n",
    "                return \"not prime\"\n",
    "                break\n",
    "        else:\n",
    "            return \"prime\"\n",
    "        "
   ]
  },
  {
   "cell_type": "code",
   "execution_count": null,
   "metadata": {},
   "outputs": [],
   "source": []
  },
  {
   "cell_type": "code",
   "execution_count": 3,
   "metadata": {},
   "outputs": [
    {
     "data": {
      "text/plain": [
       "'not prime'"
      ]
     },
     "execution_count": 3,
     "metadata": {},
     "output_type": "execute_result"
    }
   ],
   "source": [
    "import check_prime\n",
    "\n",
    "check_prime.check_prime_no(9)"
   ]
  },
  {
   "cell_type": "code",
   "execution_count": 6,
   "metadata": {},
   "outputs": [
    {
     "name": "stdout",
     "output_type": "stream",
     "text": [
      "Overwriting unit_test_prime.py\n"
     ]
    }
   ],
   "source": [
    "%%writefile unit_test_prime.py\n",
    "import unittest\n",
    "import check_prime\n",
    "\n",
    "class test_check_prime(unittest.TestCase):\n",
    "    def test_for_no(self):\n",
    "        self.assertEqual(check_prime.check_prime_no(9), \"not prime\")\n",
    "if __name__ == \"__main__\":\n",
    "    unittest.main()\n",
    "    \n",
    "    def test_for_no2(self):\n",
    "        self.assertEqual(check_prime.check_prime_no(3), \"prime\")\n",
    "if __name__ == \"__main__\":\n",
    "    unittest.main()"
   ]
  },
  {
   "cell_type": "code",
   "execution_count": 7,
   "metadata": {},
   "outputs": [
    {
     "name": "stderr",
     "output_type": "stream",
     "text": [
      ".\n",
      "----------------------------------------------------------------------\n",
      "Ran 1 test in 0.001s\n",
      "\n",
      "OK\n"
     ]
    }
   ],
   "source": [
    "! python unit_test_prime.py"
   ]
  },
  {
   "cell_type": "code",
   "execution_count": null,
   "metadata": {},
   "outputs": [],
   "source": []
  }
 ],
 "metadata": {
  "kernelspec": {
   "display_name": "Python 3",
   "language": "python",
   "name": "python3"
  },
  "language_info": {
   "codemirror_mode": {
    "name": "ipython",
    "version": 3
   },
   "file_extension": ".py",
   "mimetype": "text/x-python",
   "name": "python",
   "nbconvert_exporter": "python",
   "pygments_lexer": "ipython3",
   "version": "3.6.5"
  }
 },
 "nbformat": 4,
 "nbformat_minor": 2
}
